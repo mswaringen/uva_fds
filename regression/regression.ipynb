{
 "cells": [
  {
   "cell_type": "markdown",
   "metadata": {},
   "source": [
    "# Fundamentals of Data Science - Week 6 #"
   ]
  },
  {
   "cell_type": "markdown",
   "metadata": {},
   "source": [
    "In this notebook, the first section is going to cover the following practical aspects of data science:\n",
    "+ Creating a Linear Regression model\n",
    "+ Predicting the model on unseen data and calculating error on the predicted score vs orginal score\n",
    "+ Create a simple linear regression (with a single variable and a target) on the Diabetes dataset\n",
    "+ Fit a linear model on the data and plot it\n",
    "+ Create multivariate linear regression to predict house prices in Boston\n",
    "+ Plot correlation between variables, predicted price vs original price and calculate mean square errors \n"
   ]
  },
  {
   "cell_type": "code",
   "execution_count": null,
   "metadata": {},
   "outputs": [],
   "source": [
    "import pandas as pd\n",
    "\n",
    "import matplotlib.pyplot as plt\n",
    "import numpy as np\n",
    "from sklearn import datasets, linear_model\n",
    "from sklearn.metrics import mean_squared_error, r2_score\n"
   ]
  },
  {
   "cell_type": "markdown",
   "metadata": {},
   "source": [
    "<h3> Single Variable Linear regression </h3>"
   ]
  },
  {
   "cell_type": "code",
   "execution_count": null,
   "metadata": {},
   "outputs": [],
   "source": [
    "# Load the diabetes dataset\n",
    "diabetes = datasets.load_diabetes()\n",
    "\n",
    "# Use only one feature\n",
    "diabetes_X = diabetes.data[:, np.newaxis, 2]\n",
    "#Construct a data frame that contains features and estimated coefficients.\n",
    "pd.DataFrame(list(zip(diabetes_X, diabetes.target)), columns = ['feature', 'Target'])"
   ]
  },
  {
   "cell_type": "code",
   "execution_count": null,
   "metadata": {},
   "outputs": [],
   "source": [
    "# Split the data into training/testing sets\n",
    "diabetes_X_train = diabetes_X[:-20]\n",
    "diabetes_X_test = diabetes_X[-20:]\n",
    "\n",
    "# Split the targets into training/testing sets\n",
    "diabetes_y_train = diabetes.target[:-20]\n",
    "diabetes_y_test = diabetes.target[-20:]\n",
    "\n",
    "# Create linear regression object\n",
    "regr = linear_model.LinearRegression()\n",
    "\n",
    "# Train the model using the training sets\n",
    "regr.fit(diabetes_X_train, diabetes_y_train)\n",
    "\n",
    "# Make predictions using the testing set\n",
    "diabetes_y_pred = regr.predict(diabetes_X_test)\n",
    "\n",
    "# The coefficients\n",
    "print('Coefficients: \\n', regr.coef_)\n",
    "# The mean squared error\n",
    "print(\"Mean squared error: %.2f\"\n",
    "      % mean_squared_error(diabetes_y_test, diabetes_y_pred))\n",
    "# Explained variance score: 1 is perfect prediction\n",
    "print('Variance score: %.2f' % r2_score(diabetes_y_test, diabetes_y_pred))\n",
    "\n",
    "# Plot outputs\n",
    "plt.scatter(diabetes_X_test, diabetes_y_test,  color='black')\n",
    "plt.plot(diabetes_X_test, diabetes_y_pred, color='blue', linewidth=3)\n",
    "plt.xlabel(\"Features\")\n",
    "plt.ylabel(\"Target Values\")\n",
    "plt.title(\"Plot of original target (black dots) and the linearly fit model(blue line)\")\n",
    "\n",
    "plt.xticks(())\n",
    "plt.yticks(())\n",
    "\n",
    "\n",
    "plt.show()"
   ]
  },
  {
   "cell_type": "markdown",
   "metadata": {},
   "source": [
    "<h3> Multivariate Regression: Predicting house prices in Boston  </h3>"
   ]
  },
  {
   "cell_type": "code",
   "execution_count": null,
   "metadata": {},
   "outputs": [],
   "source": [
    "#Import Boston data set and store it in a variable called boston\n",
    "\n",
    "from sklearn.datasets import load_boston\n",
    "boston = load_boston()\n",
    "\n",
    "#The object boston is a dictionary, so you can explore the keys of this dictionary and the shape of the key -'data'\n",
    "print(boston.keys())\n",
    "print(boston.data.shape)"
   ]
  },
  {
   "cell_type": "markdown",
   "metadata": {},
   "source": [
    "Before starting the analysis it is always good to delve into the data. First, we look into the feature names\n",
    "of boston data set. We can also see the description of this data set to know more about it. In this  data set there are 506 instances(rows) and 13 attributes or parameters(columns). The goal of this exercise is to predict the  housing prices in boston region using the features given.\n"
   ]
  },
  {
   "cell_type": "code",
   "execution_count": null,
   "metadata": {},
   "outputs": [],
   "source": [
    "print(boston.feature_names)\n",
    "print(boston.DESCR)"
   ]
  },
  {
   "cell_type": "markdown",
   "metadata": {},
   "source": [
    "<h4> Convert <i> boston.data </i> into a pandas data frame. <h4>"
   ]
  },
  {
   "cell_type": "code",
   "execution_count": null,
   "metadata": {},
   "outputs": [],
   "source": [
    "bos = pd.DataFrame(boston.data)\n",
    "bos.head()"
   ]
  },
  {
   "cell_type": "code",
   "execution_count": null,
   "metadata": {},
   "outputs": [],
   "source": [
    "#As we can see the column names are just numbers, so to replace those numbers with the feature names.\n",
    "\n",
    "bos.columns = boston.feature_names\n",
    "bos.head()"
   ]
  },
  {
   "cell_type": "code",
   "execution_count": null,
   "metadata": {},
   "outputs": [],
   "source": [
    "#boston.target contains the housing prices. We need to add add one more column 'PRICE' to the dataframe for the target.\n",
    "bos['PRICE'] = boston.target\n",
    "bos.head()"
   ]
  },
  {
   "cell_type": "markdown",
   "metadata": {},
   "source": [
    "We are now going to  fit a linear regression model and predict the Boston housing prices. We will use the least squares method as the way to estimate the coefficients.\n",
    "\n",
    "Y = boston housing price(also called “target” data in Python)\n",
    "\n",
    "and\n",
    "\n",
    "X = all the other features (or independent variables)\n",
    "\n",
    "First, import linear regression from sci-kit learn module. Then we need to drop the price column as we want only the parameters as our X values and store linear regression object in a variable called <i>lm</i>."
   ]
  },
  {
   "cell_type": "code",
   "execution_count": null,
   "metadata": {},
   "outputs": [],
   "source": [
    "from sklearn.linear_model import LinearRegression\n",
    "X = bos.drop('PRICE', axis = 1)\n",
    "\n",
    "#This creates a LinearRegression object\n",
    "lm = LinearRegression()\n",
    "lm"
   ]
  },
  {
   "cell_type": "markdown",
   "metadata": {},
   "source": [
    "<h4> Fitting a Linear Model </h4> We will use all 13 parameters to fit a linear regression model. Two other parameters that we can pass to linear regression object are <i>fit_intercept</i> and <i>normalize</i>."
   ]
  },
  {
   "cell_type": "code",
   "execution_count": null,
   "metadata": {},
   "outputs": [],
   "source": [
    "lm.fit(X, bos.PRICE)\n",
    "#print the intercept and number of coefficients.\n",
    "print('Estimated intercept coefficient:', lm.intercept_)\n",
    "print('Number of coefficients:', len(lm.coef_))"
   ]
  },
  {
   "cell_type": "code",
   "execution_count": null,
   "metadata": {},
   "outputs": [],
   "source": [
    "#Construct a data frame that contains features and estimated coefficients.\n",
    "pd.DataFrame(list(zip(X.columns, lm.coef_)), columns = ['features', 'estimatedCoefficients'])"
   ]
  },
  {
   "cell_type": "markdown",
   "metadata": {},
   "source": [
    "As can be seen from the data frame that there is a high correlation between RM and prices. Lets plot a scatter plot between True housing prices and True RM."
   ]
  },
  {
   "cell_type": "code",
   "execution_count": null,
   "metadata": {},
   "outputs": [],
   "source": [
    "plt.scatter(bos.RM, bos.PRICE)\n",
    "plt.xlabel(\"Average number of rooms per dwelling (RM)\")\n",
    "plt.ylabel(\"Housing Price\")\n",
    "plt.title(\"Relationship between RM and Price\")\n",
    "plt.show()\n",
    "# As can be seen that there is a positive correlation between RM and housing prices."
   ]
  },
  {
   "cell_type": "markdown",
   "metadata": {},
   "source": [
    "<h4> Predicting Prices </h4> To calculate the predicted prices (Y_i) we use <i>lm.predict</i>. Then we print the first 5 housing prices predicted by our model. We then plot a scatter plot to compare true prices vs the predicted prices."
   ]
  },
  {
   "cell_type": "code",
   "execution_count": null,
   "metadata": {},
   "outputs": [],
   "source": [
    "lm.predict(X)[0:5]"
   ]
  },
  {
   "cell_type": "code",
   "execution_count": null,
   "metadata": {},
   "outputs": [],
   "source": [
    "plt.scatter(bos.PRICE, lm.predict(X))\n",
    "plt.xlabel(\"Prices: $Y_i$\")\n",
    "plt.ylabel(\"Predicted prices: $\\hat{Y}_i$\")\n",
    "plt.title(\"Prices vs Predicted Prices: $Y_i$ vs $\\hat{Y}_i$\")\n",
    "plt.show()"
   ]
  },
  {
   "cell_type": "code",
   "execution_count": null,
   "metadata": {},
   "outputs": [],
   "source": [
    "#We can notice that there is some error in  the prediction as the housing prices increase.\n",
    "#Lets calculate the mean squared error.\n",
    "mseFull = np.mean((bos.PRICE - lm.predict(X))** 2)\n",
    "print(mseFull)"
   ]
  },
  {
   "cell_type": "markdown",
   "metadata": {},
   "source": [
    "But if we fit linear regression for <b>one feature</b> the error will be very high. Lets take the feature ‘PTRATIO’ and calculate the mean squared error."
   ]
  },
  {
   "cell_type": "code",
   "execution_count": null,
   "metadata": {},
   "outputs": [],
   "source": [
    "lm = LinearRegression()\n",
    "lm.fit(X[['PTRATIO']], bos.PRICE)\n",
    "\n",
    "msePTRATIO = np.mean((bos.PRICE - lm.predict(X[['PTRATIO']]))** 2)\n",
    "print(msePTRATIO)"
   ]
  },
  {
   "cell_type": "markdown",
   "metadata": {},
   "source": [
    "The <b>mean squared error</b> has increased. So this shows that a single feature is not a good predictor of housing prices.\n",
    "\n",
    "<b> To-Do 1: Make a train-test split and calculate the mean squared error for training data and test data. </b>\n",
    "\n",
    "<b> To-Do 2: Plot the residuals for training and test datasets </b>\n"
   ]
  },
  {
   "cell_type": "code",
   "execution_count": null,
   "metadata": {},
   "outputs": [],
   "source": []
  }
 ],
 "metadata": {
  "kernelspec": {
   "display_name": "Python 3",
   "language": "python",
   "name": "python3"
  },
  "language_info": {
   "codemirror_mode": {
    "name": "ipython",
    "version": 3
   },
   "file_extension": ".py",
   "mimetype": "text/x-python",
   "name": "python",
   "nbconvert_exporter": "python",
   "pygments_lexer": "ipython3",
   "version": "3.7.0"
  }
 },
 "nbformat": 4,
 "nbformat_minor": 2
}
