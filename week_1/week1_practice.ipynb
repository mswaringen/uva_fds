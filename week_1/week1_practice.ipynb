{
 "cells": [
  {
   "cell_type": "code",
   "execution_count": 2,
   "metadata": {},
   "outputs": [],
   "source": [
    "import numpy as np"
   ]
  },
  {
   "cell_type": "code",
   "execution_count": 3,
   "metadata": {},
   "outputs": [],
   "source": [
    "np.random.seed(444)"
   ]
  },
  {
   "cell_type": "code",
   "execution_count": 6,
   "metadata": {},
   "outputs": [
    {
     "data": {
      "text/plain": [
       "array([False,  True,  True, ..., False, False, False])"
      ]
     },
     "execution_count": 6,
     "metadata": {},
     "output_type": "execute_result"
    }
   ],
   "source": [
    "x = np.random.choice([False,True], size=100000)\n",
    "x"
   ]
  },
  {
   "cell_type": "code",
   "execution_count": 8,
   "metadata": {},
   "outputs": [
    {
     "data": {
      "text/plain": [
       "25050"
      ]
     },
     "execution_count": 8,
     "metadata": {},
     "output_type": "execute_result"
    }
   ],
   "source": [
    "def count_transitions(x) -> int:\n",
    "    count = 0\n",
    "    for i, j in zip(x[:-1],x[1:]):\n",
    "        if j and not i:\n",
    "            count +=1\n",
    "    return count\n",
    "\n",
    "count_transitions(x)"
   ]
  },
  {
   "cell_type": "code",
   "execution_count": 9,
   "metadata": {},
   "outputs": [
    {
     "data": {
      "text/plain": [
       "25050"
      ]
     },
     "execution_count": 9,
     "metadata": {},
     "output_type": "execute_result"
    }
   ],
   "source": [
    "np.count_nonzero(x[:-1] < x[1:])"
   ]
  },
  {
   "cell_type": "code",
   "execution_count": 10,
   "metadata": {},
   "outputs": [
    {
     "name": "stdout",
     "output_type": "stream",
     "text": [
      "t1:  6.0132393209996735\n",
      "t2:  0.08802526899944496\n",
      "Speed difference: 68.3x\n"
     ]
    }
   ],
   "source": [
    "from timeit import timeit\n",
    "setup = 'from __main__ import count_transitions, x; import numpy as np'\n",
    "num = 1000\n",
    "t1 = timeit('count_transitions(x)', setup=setup, number=num)\n",
    "t2 = timeit('np.count_nonzero(x[:-1] < x[1:])', setup=setup, number=num)\n",
    "print(\"t1: \", t1)\n",
    "print(\"t2: \", t2)\n",
    "print(\"Speed difference: {:0.1f}x\".format(t1/t2))"
   ]
  },
  {
   "cell_type": "code",
   "execution_count": 11,
   "metadata": {},
   "outputs": [
    {
     "data": {
      "text/plain": [
       "array([nan, nan, nan, nan, nan, nan, nan, nan, nan, nan, nan, nan, nan,\n",
       "       nan, nan, nan, nan, nan, nan, nan, nan, nan, nan, nan, nan, nan,\n",
       "       nan, nan, nan, nan, nan, nan, nan, nan, nan, nan, nan, nan, nan,\n",
       "       nan, nan, nan, nan, nan, nan, nan, nan, nan, nan, nan, nan, nan,\n",
       "       nan, nan, nan, nan, nan, nan, nan, nan, nan, nan, nan, nan, nan,\n",
       "       nan, nan, nan, nan, nan, nan, nan, nan, nan, nan, nan, nan, nan,\n",
       "       nan, nan, nan, nan, nan, nan, nan, nan, nan, nan, nan, nan, nan,\n",
       "       nan, nan, nan, nan, nan, nan, nan, nan, nan])"
      ]
     },
     "execution_count": 11,
     "metadata": {},
     "output_type": "execute_result"
    }
   ],
   "source": [
    "prices = np.full(100, fill_value=np.nan)\n",
    "prices"
   ]
  },
  {
   "cell_type": "code",
   "execution_count": 14,
   "metadata": {},
   "outputs": [
    {
     "data": {
      "text/plain": [
       "array([80., nan, nan, nan, nan, nan, nan, nan, nan, nan, nan, nan, nan,\n",
       "       nan, nan, nan, nan, nan, nan, nan, nan, nan, nan, nan, nan, 30.,\n",
       "       nan, nan, nan, nan, nan, nan, nan, nan, nan, nan, nan, nan, nan,\n",
       "       nan, nan, nan, nan, nan, nan, nan, nan, nan, nan, nan, nan, nan,\n",
       "       nan, nan, nan, nan, nan, nan, nan, nan, 75., nan, nan, nan, nan,\n",
       "       nan, nan, nan, nan, nan, nan, nan, nan, nan, nan, nan, nan, nan,\n",
       "       nan, nan, nan, nan, nan, nan, nan, nan, nan, nan, nan, nan, nan,\n",
       "       nan, nan, nan, nan, nan, nan, nan, nan, 50.])"
      ]
     },
     "execution_count": 14,
     "metadata": {},
     "output_type": "execute_result"
    }
   ],
   "source": [
    "prices[[0,25,60,-1]] = [80.,30.,75.,50.]\n",
    "prices"
   ]
  },
  {
   "cell_type": "code",
   "execution_count": 15,
   "metadata": {},
   "outputs": [
    {
     "data": {
      "text/plain": [
       "array([ 0,  1,  2,  3,  4,  5,  6,  7,  8,  9, 10, 11, 12, 13, 14, 15, 16,\n",
       "       17, 18, 19, 20, 21, 22, 23, 24, 25, 26, 27, 28, 29, 30, 31, 32, 33,\n",
       "       34, 35, 36, 37, 38, 39, 40, 41, 42, 43, 44, 45, 46, 47, 48, 49, 50,\n",
       "       51, 52, 53, 54, 55, 56, 57, 58, 59, 60, 61, 62, 63, 64, 65, 66, 67,\n",
       "       68, 69, 70, 71, 72, 73, 74, 75, 76, 77, 78, 79, 80, 81, 82, 83, 84,\n",
       "       85, 86, 87, 88, 89, 90, 91, 92, 93, 94, 95, 96, 97, 98, 99])"
      ]
     },
     "execution_count": 15,
     "metadata": {},
     "output_type": "execute_result"
    }
   ],
   "source": [
    "x=np.arange(len(prices))\n",
    "x"
   ]
  },
  {
   "cell_type": "code",
   "execution_count": 16,
   "metadata": {},
   "outputs": [
    {
     "data": {
      "text/plain": [
       "array([ True, False, False, False, False, False, False, False, False,\n",
       "       False, False, False, False, False, False, False, False, False,\n",
       "       False, False, False, False, False, False, False,  True, False,\n",
       "       False, False, False, False, False, False, False, False, False,\n",
       "       False, False, False, False, False, False, False, False, False,\n",
       "       False, False, False, False, False, False, False, False, False,\n",
       "       False, False, False, False, False, False,  True, False, False,\n",
       "       False, False, False, False, False, False, False, False, False,\n",
       "       False, False, False, False, False, False, False, False, False,\n",
       "       False, False, False, False, False, False, False, False, False,\n",
       "       False, False, False, False, False, False, False, False, False,\n",
       "        True])"
      ]
     },
     "execution_count": 16,
     "metadata": {},
     "output_type": "execute_result"
    }
   ],
   "source": [
    "is_valid = ~np.isnan(prices)\n",
    "is_valid"
   ]
  },
  {
   "cell_type": "code",
   "execution_count": 18,
   "metadata": {},
   "outputs": [
    {
     "data": {
      "text/plain": [
       "array([80.        , 78.        , 76.        , 74.        , 72.        ,\n",
       "       70.        , 68.        , 66.        , 64.        , 62.        ,\n",
       "       60.        , 58.        , 56.        , 54.        , 52.        ,\n",
       "       50.        , 48.        , 46.        , 44.        , 42.        ,\n",
       "       40.        , 38.        , 36.        , 34.        , 32.        ,\n",
       "       30.        , 31.28571429, 32.57142857, 33.85714286, 35.14285714,\n",
       "       36.42857143, 37.71428571, 39.        , 40.28571429, 41.57142857,\n",
       "       42.85714286, 44.14285714, 45.42857143, 46.71428571, 48.        ,\n",
       "       49.28571429, 50.57142857, 51.85714286, 53.14285714, 54.42857143,\n",
       "       55.71428571, 57.        , 58.28571429, 59.57142857, 60.85714286,\n",
       "       62.14285714, 63.42857143, 64.71428571, 66.        , 67.28571429,\n",
       "       68.57142857, 69.85714286, 71.14285714, 72.42857143, 73.71428571,\n",
       "       75.        , 74.35897436, 73.71794872, 73.07692308, 72.43589744,\n",
       "       71.79487179, 71.15384615, 70.51282051, 69.87179487, 69.23076923,\n",
       "       68.58974359, 67.94871795, 67.30769231, 66.66666667, 66.02564103,\n",
       "       65.38461538, 64.74358974, 64.1025641 , 63.46153846, 62.82051282,\n",
       "       62.17948718, 61.53846154, 60.8974359 , 60.25641026, 59.61538462,\n",
       "       58.97435897, 58.33333333, 57.69230769, 57.05128205, 56.41025641,\n",
       "       55.76923077, 55.12820513, 54.48717949, 53.84615385, 53.20512821,\n",
       "       52.56410256, 51.92307692, 51.28205128, 50.64102564, 50.        ])"
      ]
     },
     "execution_count": 18,
     "metadata": {},
     "output_type": "execute_result"
    }
   ],
   "source": [
    "prices = np.interp(x=x,xp=x[is_valid],fp=prices[is_valid])\n",
    "prices"
   ]
  },
  {
   "cell_type": "code",
   "execution_count": 20,
   "metadata": {},
   "outputs": [
    {
     "data": {
      "text/plain": [
       "[<matplotlib.lines.Line2D at 0x7fb74895ef70>]"
      ]
     },
     "execution_count": 20,
     "metadata": {},
     "output_type": "execute_result"
    },
    {
     "data": {
      "image/png": "[encoded data removed]",
      "text/plain": [
       "<Figure size 432x288 with 1 Axes>"
      ]
     },
     "metadata": {
      "needs_background": "light"
     },
     "output_type": "display_data"
    }
   ],
   "source": [
    "import matplotlib.pyplot as plt\n",
    "\n",
    "mn = np.argmin(prices)\n",
    "mx = mn + np.argmax(prices[mn:])\n",
    "kwargs = {'markersize': 12, 'linestyle': ''}\n",
    "\n",
    "fig, ax = plt.subplots()\n",
    "ax.plot(prices)\n",
    "ax.set_title('Price History')\n",
    "ax.set_xlabel('Time')\n",
    "ax.set_ylabel('Price')\n",
    "ax.plot(mn, prices[mn], color='green', **kwargs)\n",
    "ax.plot(mn, prices[mx], color='red', **kwargs)"
   ]
  },
  {
   "cell_type": "code",
   "execution_count": 21,
   "metadata": {},
   "outputs": [
    {
     "data": {
      "text/plain": [
       "array([79.98627674, 76.85844442, 76.7416259 , 74.45656811, 68.0561963 ,\n",
       "       69.87459186, 67.60898551, 66.50716161, 62.56696737, 60.25322462,\n",
       "       59.08659529, 57.40991315, 57.20652103, 55.02445346, 51.04022502,\n",
       "       51.32099915, 46.45346831, 49.75119447, 43.76013732, 41.99074981,\n",
       "       42.00175037, 37.97481115, 38.4752173 , 35.29294558, 31.82986273,\n",
       "       25.92724501, 31.89126964, 33.71667052, 32.77344659, 36.40388628,\n",
       "       34.82009966, 37.31443538, 38.3748311 , 39.5776252 , 45.94223352,\n",
       "       45.34050361, 42.02132239, 48.05933229, 45.66340351, 46.20362742,\n",
       "       49.68335167, 50.5803186 , 52.44238802, 53.67733212, 52.54084312,\n",
       "       57.70048197, 55.90168386, 59.02448668, 58.92419936, 57.99801425,\n",
       "       66.11967812, 63.08189275, 65.55040542, 65.68612189, 69.95467062,\n",
       "       67.09183135, 69.34100132, 70.17228557, 74.74986095, 76.18155367,\n",
       "       76.71505581, 73.18061994, 72.27951091, 73.42202434, 73.07276306,\n",
       "       69.82323796, 63.39322816, 69.59173187, 68.7549254 , 68.68293331,\n",
       "       68.18386643, 69.0911255 , 68.19840308, 71.27091451, 63.30055803,\n",
       "       64.95918756, 60.14848602, 62.8432511 , 63.67099477, 62.89613586,\n",
       "       61.61848058, 63.23505845, 59.81188388, 58.15056751, 59.90429945,\n",
       "       59.05939112, 59.81815238, 58.76078526, 56.65128612, 53.97335785,\n",
       "       53.12481024, 54.3675285 , 53.89687276, 52.69730697, 55.19559604,\n",
       "       53.27126012, 51.64319298, 50.26254454, 51.67969617, 51.51206451])"
      ]
     },
     "execution_count": 21,
     "metadata": {},
     "output_type": "execute_result"
    }
   ],
   "source": [
    "prices += np.random.randn(len(prices)) * 2\n",
    "prices"
   ]
  },
  {
   "cell_type": "code",
   "execution_count": 22,
   "metadata": {},
   "outputs": [
    {
     "data": {
      "text/plain": [
       "[<matplotlib.lines.Line2D at 0x7fb7488d5940>]"
      ]
     },
     "execution_count": 22,
     "metadata": {},
     "output_type": "execute_result"
    },
    {
     "data": {
      "image/png": "[encoded data removed]",
      "text/plain": [
       "<Figure size 432x288 with 1 Axes>"
      ]
     },
     "metadata": {
      "needs_background": "light"
     },
     "output_type": "display_data"
    }
   ],
   "source": [
    "mn = np.argmin(prices)\n",
    "mx = mn + np.argmax(prices[mn:])\n",
    "kwargs = {'markersize': 12, 'linestyle': ''}\n",
    "\n",
    "fig, ax = plt.subplots()\n",
    "ax.plot(prices)\n",
    "ax.set_title('Price History')\n",
    "ax.set_xlabel('Time')\n",
    "ax.set_ylabel('Price')\n",
    "ax.plot(mn, prices[mn], color='green', **kwargs)\n",
    "ax.plot(mn, prices[mx], color='red', **kwargs)"
   ]
  },
  {
   "cell_type": "code",
   "execution_count": 25,
   "metadata": {},
   "outputs": [
    {
     "data": {
      "text/plain": [
       "50.787810796667046"
      ]
     },
     "execution_count": 25,
     "metadata": {},
     "output_type": "execute_result"
    }
   ],
   "source": [
    "cummin = np.minimum.accumulate\n",
    "\n",
    "def profit_with_numpy(prices):\n",
    "    \"\"\"Prices minus cumulative min price, element-wise\"\"\"\n",
    "    prices = np.asarray(prices)\n",
    "    return np.max(prices-cummin(prices))\n",
    "\n",
    "profit_with_numpy(prices)"
   ]
  },
  {
   "cell_type": "code",
   "execution_count": 27,
   "metadata": {},
   "outputs": [],
   "source": [
    "def profit(prices):\n",
    "    max_px = 0\n",
    "    min_px = prices[0]\n",
    "    for px in prices[1:]:\n",
    "        min_px = min(min_px, px)\n",
    "        max_px = max(px - min_px, max_px)\n",
    "    return max_px"
   ]
  },
  {
   "cell_type": "code",
   "execution_count": 28,
   "metadata": {},
   "outputs": [
    {
     "data": {
      "text/plain": [
       "True"
      ]
     },
     "execution_count": 28,
     "metadata": {},
     "output_type": "execute_result"
    }
   ],
   "source": [
    "np.allclose(profit_with_numpy(prices), profit(prices))"
   ]
  },
  {
   "cell_type": "code",
   "execution_count": 30,
   "metadata": {},
   "outputs": [
    {
     "name": "stdout",
     "output_type": "stream",
     "text": [
      "[[ 1  2  3]\n",
      " [10 20 30]] (2, 3)\n"
     ]
    }
   ],
   "source": [
    "arr = np.array([[1,2,3],[10,20,30]])\n",
    "print(arr, arr.shape)"
   ]
  },
  {
   "cell_type": "code",
   "execution_count": 31,
   "metadata": {},
   "outputs": [
    {
     "data": {
      "text/plain": [
       "array([11, 22, 33])"
      ]
     },
     "execution_count": 31,
     "metadata": {},
     "output_type": "execute_result"
    }
   ],
   "source": [
    "arr.sum(axis=0)"
   ]
  },
  {
   "cell_type": "code",
   "execution_count": 32,
   "metadata": {},
   "outputs": [
    {
     "data": {
      "text/plain": [
       "array([ 6, 60])"
      ]
     },
     "execution_count": 32,
     "metadata": {},
     "output_type": "execute_result"
    }
   ],
   "source": [
    "arr.sum(axis=1)"
   ]
  },
  {
   "cell_type": "code",
   "execution_count": 33,
   "metadata": {},
   "outputs": [
    {
     "data": {
      "text/plain": [
       "array([0.15, 0.5 , 3.5 ])"
      ]
     },
     "execution_count": 33,
     "metadata": {},
     "output_type": "execute_result"
    }
   ],
   "source": [
    "a = np.array([1.5,2.5,3.5])\n",
    "b = np.array([10.,5.,1.])\n",
    "a/b"
   ]
  },
  {
   "cell_type": "code",
   "execution_count": 35,
   "metadata": {},
   "outputs": [
    {
     "data": {
      "text/plain": [
       "array([[ 2.03311388, 18.04808191],\n",
       "       [ 2.64357599, 18.05995121],\n",
       "       [ 1.58863181, 16.999597  ]])"
      ]
     },
     "execution_count": 35,
     "metadata": {},
     "output_type": "execute_result"
    }
   ],
   "source": [
    "sample = np.random.normal(loc=[2.,20,], scale=[1.,3.5], size=(3,2))\n",
    "sample"
   ]
  },
  {
   "cell_type": "code",
   "execution_count": 36,
   "metadata": {},
   "outputs": [
    {
     "data": {
      "text/plain": [
       "array([ 2.08844056, 17.70254337])"
      ]
     },
     "execution_count": 36,
     "metadata": {},
     "output_type": "execute_result"
    }
   ],
   "source": [
    "mu = sample.mean(axis=0)\n",
    "mu"
   ]
  },
  {
   "cell_type": "code",
   "execution_count": 37,
   "metadata": {},
   "outputs": [
    {
     "name": "stdout",
     "output_type": "stream",
     "text": [
      "sample: (3, 2) | means: (2,)\n"
     ]
    }
   ],
   "source": [
    "print('sample:', sample.shape, '| means:', mu.shape)"
   ]
  },
  {
   "cell_type": "code",
   "execution_count": 38,
   "metadata": {},
   "outputs": [
    {
     "data": {
      "text/plain": [
       "array([[-0.05532668,  0.34553854],\n",
       "       [ 0.55513543,  0.35740784],\n",
       "       [-0.49980875, -0.70294637]])"
      ]
     },
     "execution_count": 38,
     "metadata": {},
     "output_type": "execute_result"
    }
   ],
   "source": [
    "sample - mu "
   ]
  },
  {
   "cell_type": "code",
   "execution_count": 39,
   "metadata": {},
   "outputs": [
    {
     "data": {
      "text/plain": [
       "array([[-0.12793705,  0.6951342 ],\n",
       "       [ 1.28369148,  0.71901217],\n",
       "       [-1.15575443, -1.41414637]])"
      ]
     },
     "execution_count": 39,
     "metadata": {},
     "output_type": "execute_result"
    }
   ],
   "source": [
    "(sample - sample.mean(axis=0))/sample.std(axis=0)"
   ]
  },
  {
   "cell_type": "code",
   "execution_count": 41,
   "metadata": {},
   "outputs": [
    {
     "data": {
      "text/plain": [
       "array([2.03311388, 2.64357599, 1.58863181])"
      ]
     },
     "execution_count": 41,
     "metadata": {},
     "output_type": "execute_result"
    }
   ],
   "source": [
    "col_min = sample.min(axis=1)\n",
    "col_min"
   ]
  },
  {
   "cell_type": "code",
   "execution_count": 42,
   "metadata": {},
   "outputs": [
    {
     "data": {
      "text/plain": [
       "array([[2.03311388],\n",
       "       [2.64357599],\n",
       "       [1.58863181]])"
      ]
     },
     "execution_count": 42,
     "metadata": {},
     "output_type": "execute_result"
    }
   ],
   "source": [
    "col_min[:,None]"
   ]
  },
  {
   "cell_type": "code",
   "execution_count": 43,
   "metadata": {},
   "outputs": [
    {
     "data": {
      "text/plain": [
       "array([[ 0.        , 16.01496803],\n",
       "       [ 0.        , 15.41637522],\n",
       "       [ 0.        , 15.41096518]])"
      ]
     },
     "execution_count": 43,
     "metadata": {},
     "output_type": "execute_result"
    }
   ],
   "source": [
    "sample - sample.min(axis=1)[:,None]"
   ]
  },
  {
   "cell_type": "code",
   "execution_count": 45,
   "metadata": {},
   "outputs": [
    {
     "name": "stdout",
     "output_type": "stream",
     "text": [
      "(3,) (3, 1)\n"
     ]
    }
   ],
   "source": [
    "print(col_min.shape, col_min[:,None].shape)"
   ]
  },
  {
   "cell_type": "code",
   "execution_count": null,
   "metadata": {},
   "outputs": [],
   "source": []
  }
 ],
 "metadata": {
  "kernelspec": {
   "display_name": "Python 3",
   "language": "python",
   "name": "python3"
  },
  "language_info": {
   "codemirror_mode": {
    "name": "ipython",
    "version": 3
   },
   "file_extension": ".py",
   "mimetype": "text/x-python",
   "name": "python",
   "nbconvert_exporter": "python",
   "pygments_lexer": "ipython3",
   "version": "3.8.3"
  }
 },
 "nbformat": 4,
 "nbformat_minor": 4
}
