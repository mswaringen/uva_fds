{
 "cells": [
  {
   "cell_type": "markdown",
   "metadata": {},
   "source": [
    "# FDS Assignment 3 - Property Prices"
   ]
  },
  {
   "cell_type": "markdown",
   "metadata": {},
   "source": [
    "#### Section 1\n",
    "- Import data\n",
    "- Clean (as in werkcollege)\n",
    "- Create baseline model (multivariate LR as seen in werkcollege)\n",
    "- Further clean data (remove outliers)\n",
    "- Isolate variables with statistically significant impact\n",
    "- Create updated model\n",
    "\n",
    "#### Section 2\n",
    "- Use the aerial photos to compare models\n",
    "\n",
    "\n",
    "*Keys to a \"reliable\" model*\n",
    "- Proper cleaning and discussion of pros/cons of removing outliers\n",
    "- Proper splitting (train/validate/test)"
   ]
  },
  {
   "cell_type": "markdown",
   "metadata": {},
   "source": [
    "#### Importing the data"
   ]
  },
  {
   "cell_type": "code",
   "execution_count": 1,
   "metadata": {},
   "outputs": [
    {
     "data": {
      "text/html": [
       "<div>\n",
       "<style scoped>\n",
       "    .dataframe tbody tr th:only-of-type {\n",
       "        vertical-align: middle;\n",
       "    }\n",
       "\n",
       "    .dataframe tbody tr th {\n",
       "        vertical-align: top;\n",
       "    }\n",
       "\n",
       "    .dataframe thead th {\n",
       "        text-align: right;\n",
       "    }\n",
       "</style>\n",
       "<table border=\"1\" class=\"dataframe\">\n",
       "  <thead>\n",
       "    <tr style=\"text-align: right;\">\n",
       "      <th></th>\n",
       "      <th>Sale_id</th>\n",
       "      <th>bbl_id</th>\n",
       "      <th>year</th>\n",
       "      <th>borough</th>\n",
       "      <th>bldg_ctgy</th>\n",
       "      <th>tax_cls_p</th>\n",
       "      <th>block</th>\n",
       "      <th>lot</th>\n",
       "      <th>easmnt</th>\n",
       "      <th>bldg_cls_p</th>\n",
       "      <th>address</th>\n",
       "      <th>apt</th>\n",
       "      <th>zip</th>\n",
       "      <th>res_unit</th>\n",
       "      <th>com_unit</th>\n",
       "      <th>tot_unit</th>\n",
       "      <th>land_sqft</th>\n",
       "      <th>tot_sqft</th>\n",
       "      <th>yr_built</th>\n",
       "      <th>tax_cls_s</th>\n",
       "      <th>bldg_cls_s</th>\n",
       "      <th>sale_date</th>\n",
       "      <th>price</th>\n",
       "      <th>usable</th>\n",
       "      <th>long</th>\n",
       "      <th>lat</th>\n",
       "    </tr>\n",
       "  </thead>\n",
       "  <tbody>\n",
       "    <tr>\n",
       "      <th>0</th>\n",
       "      <td>1</td>\n",
       "      <td>2290528</td>\n",
       "      <td>2015</td>\n",
       "      <td>2</td>\n",
       "      <td>01  ONE FAMILY DWELLINGS</td>\n",
       "      <td>1</td>\n",
       "      <td>2905</td>\n",
       "      <td>28</td>\n",
       "      <td>NaN</td>\n",
       "      <td>A9</td>\n",
       "      <td>1665 WASHINGTON AVENUE</td>\n",
       "      <td>NaN</td>\n",
       "      <td>10457</td>\n",
       "      <td>1</td>\n",
       "      <td>0</td>\n",
       "      <td>1</td>\n",
       "      <td>4750</td>\n",
       "      <td>2619</td>\n",
       "      <td>1899</td>\n",
       "      <td>1</td>\n",
       "      <td>A9</td>\n",
       "      <td>08-07-15</td>\n",
       "      <td>0</td>\n",
       "      <td>N</td>\n",
       "      <td>-73.901338</td>\n",
       "      <td>40.841229</td>\n",
       "    </tr>\n",
       "    <tr>\n",
       "      <th>1</th>\n",
       "      <td>2</td>\n",
       "      <td>2290528</td>\n",
       "      <td>2015</td>\n",
       "      <td>2</td>\n",
       "      <td>01  ONE FAMILY DWELLINGS</td>\n",
       "      <td>1</td>\n",
       "      <td>2905</td>\n",
       "      <td>28</td>\n",
       "      <td>NaN</td>\n",
       "      <td>A9</td>\n",
       "      <td>1665 WASHINGTON AVENUE</td>\n",
       "      <td>NaN</td>\n",
       "      <td>10457</td>\n",
       "      <td>1</td>\n",
       "      <td>0</td>\n",
       "      <td>1</td>\n",
       "      <td>4750</td>\n",
       "      <td>2619</td>\n",
       "      <td>1899</td>\n",
       "      <td>1</td>\n",
       "      <td>A9</td>\n",
       "      <td>08-07-15</td>\n",
       "      <td>0</td>\n",
       "      <td>N</td>\n",
       "      <td>-73.901338</td>\n",
       "      <td>40.841229</td>\n",
       "    </tr>\n",
       "    <tr>\n",
       "      <th>2</th>\n",
       "      <td>3</td>\n",
       "      <td>230352</td>\n",
       "      <td>2015</td>\n",
       "      <td>2</td>\n",
       "      <td>01  ONE FAMILY DWELLINGS</td>\n",
       "      <td>1</td>\n",
       "      <td>3035</td>\n",
       "      <td>2</td>\n",
       "      <td>NaN</td>\n",
       "      <td>S1</td>\n",
       "      <td>441 EAST 178 STREET</td>\n",
       "      <td>NaN</td>\n",
       "      <td>10457</td>\n",
       "      <td>1</td>\n",
       "      <td>1</td>\n",
       "      <td>2</td>\n",
       "      <td>1287</td>\n",
       "      <td>2528</td>\n",
       "      <td>1899</td>\n",
       "      <td>1</td>\n",
       "      <td>S1</td>\n",
       "      <td>12/18/2015</td>\n",
       "      <td>0</td>\n",
       "      <td>N</td>\n",
       "      <td>-73.898331</td>\n",
       "      <td>40.848648</td>\n",
       "    </tr>\n",
       "    <tr>\n",
       "      <th>3</th>\n",
       "      <td>4</td>\n",
       "      <td>2303936</td>\n",
       "      <td>2015</td>\n",
       "      <td>2</td>\n",
       "      <td>01  ONE FAMILY DWELLINGS</td>\n",
       "      <td>1</td>\n",
       "      <td>3039</td>\n",
       "      <td>36</td>\n",
       "      <td>NaN</td>\n",
       "      <td>S1</td>\n",
       "      <td>455 EAST 184 STREET</td>\n",
       "      <td>NaN</td>\n",
       "      <td>10458</td>\n",
       "      <td>1</td>\n",
       "      <td>1</td>\n",
       "      <td>2</td>\n",
       "      <td>2500</td>\n",
       "      <td>2452</td>\n",
       "      <td>1910</td>\n",
       "      <td>1</td>\n",
       "      <td>S1</td>\n",
       "      <td>08/18/2015</td>\n",
       "      <td>0</td>\n",
       "      <td>N</td>\n",
       "      <td>-73.893338</td>\n",
       "      <td>40.856136</td>\n",
       "    </tr>\n",
       "    <tr>\n",
       "      <th>4</th>\n",
       "      <td>5</td>\n",
       "      <td>2303936</td>\n",
       "      <td>2015</td>\n",
       "      <td>2</td>\n",
       "      <td>01  ONE FAMILY DWELLINGS</td>\n",
       "      <td>1</td>\n",
       "      <td>3039</td>\n",
       "      <td>36</td>\n",
       "      <td>NaN</td>\n",
       "      <td>S1</td>\n",
       "      <td>455 EAST 184 STREET</td>\n",
       "      <td>NaN</td>\n",
       "      <td>10458</td>\n",
       "      <td>1</td>\n",
       "      <td>1</td>\n",
       "      <td>2</td>\n",
       "      <td>2500</td>\n",
       "      <td>2452</td>\n",
       "      <td>1910</td>\n",
       "      <td>1</td>\n",
       "      <td>S1</td>\n",
       "      <td>07-01-15</td>\n",
       "      <td>400000</td>\n",
       "      <td>Y</td>\n",
       "      <td>-73.893338</td>\n",
       "      <td>40.856136</td>\n",
       "    </tr>\n",
       "  </tbody>\n",
       "</table>\n",
       "</div>"
      ],
      "text/plain": [
       "   Sale_id   bbl_id  year  borough                 bldg_ctgy tax_cls_p  block  \\\n",
       "0        1  2290528  2015        2  01  ONE FAMILY DWELLINGS         1   2905   \n",
       "1        2  2290528  2015        2  01  ONE FAMILY DWELLINGS         1   2905   \n",
       "2        3   230352  2015        2  01  ONE FAMILY DWELLINGS         1   3035   \n",
       "3        4  2303936  2015        2  01  ONE FAMILY DWELLINGS         1   3039   \n",
       "4        5  2303936  2015        2  01  ONE FAMILY DWELLINGS         1   3039   \n",
       "\n",
       "   lot easmnt bldg_cls_p                 address  apt    zip  res_unit  \\\n",
       "0   28    NaN         A9  1665 WASHINGTON AVENUE  NaN  10457         1   \n",
       "1   28    NaN         A9  1665 WASHINGTON AVENUE  NaN  10457         1   \n",
       "2    2    NaN         S1     441 EAST 178 STREET  NaN  10457         1   \n",
       "3   36    NaN         S1     455 EAST 184 STREET  NaN  10458         1   \n",
       "4   36    NaN         S1     455 EAST 184 STREET  NaN  10458         1   \n",
       "\n",
       "   com_unit  tot_unit  land_sqft  tot_sqft  yr_built  tax_cls_s bldg_cls_s  \\\n",
       "0         0         1       4750      2619      1899          1         A9   \n",
       "1         0         1       4750      2619      1899          1         A9   \n",
       "2         1         2       1287      2528      1899          1         S1   \n",
       "3         1         2       2500      2452      1910          1         S1   \n",
       "4         1         2       2500      2452      1910          1         S1   \n",
       "\n",
       "    sale_date   price usable       long        lat  \n",
       "0    08-07-15       0      N -73.901338  40.841229  \n",
       "1    08-07-15       0      N -73.901338  40.841229  \n",
       "2  12/18/2015       0      N -73.898331  40.848648  \n",
       "3  08/18/2015       0      N -73.893338  40.856136  \n",
       "4    07-01-15  400000      Y -73.893338  40.856136  "
      ]
     },
     "execution_count": 1,
     "metadata": {},
     "output_type": "execute_result"
    }
   ],
   "source": [
    "import pandas as pd\n",
    "import numpy as np\n",
    "\n",
    "df = pd.read_csv('sales_data_2015.csv', index_col=0, low_memory=False)\n",
    "\n",
    "pd.set_option('display.max_columns', None)\n",
    "df.head()"
   ]
  },
  {
   "cell_type": "code",
   "execution_count": 2,
   "metadata": {},
   "outputs": [
    {
     "name": "stdout",
     "output_type": "stream",
     "text": [
      "<class 'pandas.core.frame.DataFrame'>\n",
      "Int64Index: 84768 entries, 0 to 84767\n",
      "Data columns (total 26 columns):\n",
      " #   Column      Non-Null Count  Dtype  \n",
      "---  ------      --------------  -----  \n",
      " 0   Sale_id     84768 non-null  int64  \n",
      " 1   bbl_id      84768 non-null  int64  \n",
      " 2   year        84768 non-null  int64  \n",
      " 3   borough     84768 non-null  int64  \n",
      " 4   bldg_ctgy   84768 non-null  object \n",
      " 5   tax_cls_p   84765 non-null  object \n",
      " 6   block       84768 non-null  int64  \n",
      " 7   lot         84768 non-null  int64  \n",
      " 8   easmnt      1 non-null      object \n",
      " 9   bldg_cls_p  84765 non-null  object \n",
      " 10  address     84768 non-null  object \n",
      " 11  apt         20983 non-null  object \n",
      " 12  zip         84768 non-null  int64  \n",
      " 13  res_unit    84768 non-null  int64  \n",
      " 14  com_unit    84768 non-null  int64  \n",
      " 15  tot_unit    84768 non-null  int64  \n",
      " 16  land_sqft   84768 non-null  int64  \n",
      " 17  tot_sqft    84768 non-null  int64  \n",
      " 18  yr_built    84768 non-null  int64  \n",
      " 19  tax_cls_s   84768 non-null  int64  \n",
      " 20  bldg_cls_s  84768 non-null  object \n",
      " 21  sale_date   84768 non-null  object \n",
      " 22  price       84768 non-null  int64  \n",
      " 23  usable      84768 non-null  object \n",
      " 24  long        84768 non-null  float64\n",
      " 25  lat         84768 non-null  float64\n",
      "dtypes: float64(2), int64(15), object(9)\n",
      "memory usage: 17.5+ MB\n"
     ]
    }
   ],
   "source": [
    "df.info()"
   ]
  },
  {
   "cell_type": "code",
   "execution_count": 3,
   "metadata": {},
   "outputs": [
    {
     "data": {
      "text/html": [
       "<div>\n",
       "<style scoped>\n",
       "    .dataframe tbody tr th:only-of-type {\n",
       "        vertical-align: middle;\n",
       "    }\n",
       "\n",
       "    .dataframe tbody tr th {\n",
       "        vertical-align: top;\n",
       "    }\n",
       "\n",
       "    .dataframe thead th {\n",
       "        text-align: right;\n",
       "    }\n",
       "</style>\n",
       "<table border=\"1\" class=\"dataframe\">\n",
       "  <thead>\n",
       "    <tr style=\"text-align: right;\">\n",
       "      <th></th>\n",
       "      <th>Sale_id</th>\n",
       "      <th>bbl_id</th>\n",
       "      <th>year</th>\n",
       "      <th>borough</th>\n",
       "      <th>block</th>\n",
       "      <th>lot</th>\n",
       "      <th>zip</th>\n",
       "      <th>res_unit</th>\n",
       "      <th>com_unit</th>\n",
       "      <th>tot_unit</th>\n",
       "      <th>land_sqft</th>\n",
       "      <th>tot_sqft</th>\n",
       "      <th>yr_built</th>\n",
       "      <th>tax_cls_s</th>\n",
       "      <th>price</th>\n",
       "      <th>long</th>\n",
       "      <th>lat</th>\n",
       "    </tr>\n",
       "  </thead>\n",
       "  <tbody>\n",
       "    <tr>\n",
       "      <th>count</th>\n",
       "      <td>84768.000000</td>\n",
       "      <td>8.476800e+04</td>\n",
       "      <td>84768.0</td>\n",
       "      <td>84768.000000</td>\n",
       "      <td>84768.000000</td>\n",
       "      <td>84768.000000</td>\n",
       "      <td>84768.000000</td>\n",
       "      <td>84768.000000</td>\n",
       "      <td>84768.000000</td>\n",
       "      <td>84768.000000</td>\n",
       "      <td>8.476800e+04</td>\n",
       "      <td>8.476800e+04</td>\n",
       "      <td>84768.00000</td>\n",
       "      <td>84768.000000</td>\n",
       "      <td>8.476800e+04</td>\n",
       "      <td>84768.000000</td>\n",
       "      <td>84768.000000</td>\n",
       "    </tr>\n",
       "    <tr>\n",
       "      <th>mean</th>\n",
       "      <td>42384.500000</td>\n",
       "      <td>5.552786e+07</td>\n",
       "      <td>2015.0</td>\n",
       "      <td>2.815968</td>\n",
       "      <td>3922.271812</td>\n",
       "      <td>395.336342</td>\n",
       "      <td>10795.058430</td>\n",
       "      <td>2.206882</td>\n",
       "      <td>0.213842</td>\n",
       "      <td>2.482894</td>\n",
       "      <td>2.897186e+03</td>\n",
       "      <td>4.594859e+03</td>\n",
       "      <td>1799.28020</td>\n",
       "      <td>1.820144</td>\n",
       "      <td>1.138515e+06</td>\n",
       "      <td>-73.932756</td>\n",
       "      <td>40.713802</td>\n",
       "    </tr>\n",
       "    <tr>\n",
       "      <th>std</th>\n",
       "      <td>24470.558146</td>\n",
       "      <td>1.137808e+08</td>\n",
       "      <td>0.0</td>\n",
       "      <td>1.331564</td>\n",
       "      <td>3505.674705</td>\n",
       "      <td>671.917553</td>\n",
       "      <td>640.425751</td>\n",
       "      <td>33.803117</td>\n",
       "      <td>3.328458</td>\n",
       "      <td>34.129612</td>\n",
       "      <td>1.051146e+05</td>\n",
       "      <td>4.351070e+04</td>\n",
       "      <td>520.81237</td>\n",
       "      <td>0.961171</td>\n",
       "      <td>8.874043e+06</td>\n",
       "      <td>0.096322</td>\n",
       "      <td>0.076601</td>\n",
       "    </tr>\n",
       "    <tr>\n",
       "      <th>min</th>\n",
       "      <td>1.000000</td>\n",
       "      <td>0.000000e+00</td>\n",
       "      <td>2015.0</td>\n",
       "      <td>1.000000</td>\n",
       "      <td>1.000000</td>\n",
       "      <td>1.000000</td>\n",
       "      <td>0.000000</td>\n",
       "      <td>0.000000</td>\n",
       "      <td>0.000000</td>\n",
       "      <td>0.000000</td>\n",
       "      <td>0.000000e+00</td>\n",
       "      <td>0.000000e+00</td>\n",
       "      <td>0.00000</td>\n",
       "      <td>1.000000</td>\n",
       "      <td>0.000000e+00</td>\n",
       "      <td>-74.253512</td>\n",
       "      <td>40.499018</td>\n",
       "    </tr>\n",
       "    <tr>\n",
       "      <th>25%</th>\n",
       "      <td>21192.750000</td>\n",
       "      <td>1.195860e+06</td>\n",
       "      <td>2015.0</td>\n",
       "      <td>1.000000</td>\n",
       "      <td>1169.000000</td>\n",
       "      <td>22.000000</td>\n",
       "      <td>10065.000000</td>\n",
       "      <td>0.000000</td>\n",
       "      <td>0.000000</td>\n",
       "      <td>1.000000</td>\n",
       "      <td>0.000000e+00</td>\n",
       "      <td>0.000000e+00</td>\n",
       "      <td>1920.00000</td>\n",
       "      <td>1.000000</td>\n",
       "      <td>0.000000e+00</td>\n",
       "      <td>-73.981860</td>\n",
       "      <td>40.664866</td>\n",
       "    </tr>\n",
       "    <tr>\n",
       "      <th>50%</th>\n",
       "      <td>42384.500000</td>\n",
       "      <td>4.222320e+06</td>\n",
       "      <td>2015.0</td>\n",
       "      <td>3.000000</td>\n",
       "      <td>2657.000000</td>\n",
       "      <td>50.000000</td>\n",
       "      <td>11206.000000</td>\n",
       "      <td>1.000000</td>\n",
       "      <td>0.000000</td>\n",
       "      <td>1.000000</td>\n",
       "      <td>1.650000e+03</td>\n",
       "      <td>9.900000e+02</td>\n",
       "      <td>1940.00000</td>\n",
       "      <td>2.000000</td>\n",
       "      <td>3.500000e+05</td>\n",
       "      <td>-73.949712</td>\n",
       "      <td>40.721858</td>\n",
       "    </tr>\n",
       "    <tr>\n",
       "      <th>75%</th>\n",
       "      <td>63576.250000</td>\n",
       "      <td>4.130948e+07</td>\n",
       "      <td>2015.0</td>\n",
       "      <td>4.000000</td>\n",
       "      <td>5878.000000</td>\n",
       "      <td>1003.000000</td>\n",
       "      <td>11355.000000</td>\n",
       "      <td>2.000000</td>\n",
       "      <td>0.000000</td>\n",
       "      <td>2.000000</td>\n",
       "      <td>2.638250e+03</td>\n",
       "      <td>2.180000e+03</td>\n",
       "      <td>1965.00000</td>\n",
       "      <td>2.000000</td>\n",
       "      <td>7.585960e+05</td>\n",
       "      <td>-73.864184</td>\n",
       "      <td>40.763282</td>\n",
       "    </tr>\n",
       "    <tr>\n",
       "      <th>max</th>\n",
       "      <td>84768.000000</td>\n",
       "      <td>5.786011e+08</td>\n",
       "      <td>2015.0</td>\n",
       "      <td>5.000000</td>\n",
       "      <td>16322.000000</td>\n",
       "      <td>9117.000000</td>\n",
       "      <td>11694.000000</td>\n",
       "      <td>8759.000000</td>\n",
       "      <td>612.000000</td>\n",
       "      <td>8805.000000</td>\n",
       "      <td>2.930553e+07</td>\n",
       "      <td>8.942176e+06</td>\n",
       "      <td>2016.00000</td>\n",
       "      <td>4.000000</td>\n",
       "      <td>8.700000e+08</td>\n",
       "      <td>-73.700774</td>\n",
       "      <td>40.912869</td>\n",
       "    </tr>\n",
       "  </tbody>\n",
       "</table>\n",
       "</div>"
      ],
      "text/plain": [
       "            Sale_id        bbl_id     year       borough         block  \\\n",
       "count  84768.000000  8.476800e+04  84768.0  84768.000000  84768.000000   \n",
       "mean   42384.500000  5.552786e+07   2015.0      2.815968   3922.271812   \n",
       "std    24470.558146  1.137808e+08      0.0      1.331564   3505.674705   \n",
       "min        1.000000  0.000000e+00   2015.0      1.000000      1.000000   \n",
       "25%    21192.750000  1.195860e+06   2015.0      1.000000   1169.000000   \n",
       "50%    42384.500000  4.222320e+06   2015.0      3.000000   2657.000000   \n",
       "75%    63576.250000  4.130948e+07   2015.0      4.000000   5878.000000   \n",
       "max    84768.000000  5.786011e+08   2015.0      5.000000  16322.000000   \n",
       "\n",
       "                lot           zip      res_unit      com_unit      tot_unit  \\\n",
       "count  84768.000000  84768.000000  84768.000000  84768.000000  84768.000000   \n",
       "mean     395.336342  10795.058430      2.206882      0.213842      2.482894   \n",
       "std      671.917553    640.425751     33.803117      3.328458     34.129612   \n",
       "min        1.000000      0.000000      0.000000      0.000000      0.000000   \n",
       "25%       22.000000  10065.000000      0.000000      0.000000      1.000000   \n",
       "50%       50.000000  11206.000000      1.000000      0.000000      1.000000   \n",
       "75%     1003.000000  11355.000000      2.000000      0.000000      2.000000   \n",
       "max     9117.000000  11694.000000   8759.000000    612.000000   8805.000000   \n",
       "\n",
       "          land_sqft      tot_sqft     yr_built     tax_cls_s         price  \\\n",
       "count  8.476800e+04  8.476800e+04  84768.00000  84768.000000  8.476800e+04   \n",
       "mean   2.897186e+03  4.594859e+03   1799.28020      1.820144  1.138515e+06   \n",
       "std    1.051146e+05  4.351070e+04    520.81237      0.961171  8.874043e+06   \n",
       "min    0.000000e+00  0.000000e+00      0.00000      1.000000  0.000000e+00   \n",
       "25%    0.000000e+00  0.000000e+00   1920.00000      1.000000  0.000000e+00   \n",
       "50%    1.650000e+03  9.900000e+02   1940.00000      2.000000  3.500000e+05   \n",
       "75%    2.638250e+03  2.180000e+03   1965.00000      2.000000  7.585960e+05   \n",
       "max    2.930553e+07  8.942176e+06   2016.00000      4.000000  8.700000e+08   \n",
       "\n",
       "               long           lat  \n",
       "count  84768.000000  84768.000000  \n",
       "mean     -73.932756     40.713802  \n",
       "std        0.096322      0.076601  \n",
       "min      -74.253512     40.499018  \n",
       "25%      -73.981860     40.664866  \n",
       "50%      -73.949712     40.721858  \n",
       "75%      -73.864184     40.763282  \n",
       "max      -73.700774     40.912869  "
      ]
     },
     "execution_count": 3,
     "metadata": {},
     "output_type": "execute_result"
    }
   ],
   "source": [
    "df.describe()"
   ]
  },
  {
   "cell_type": "code",
   "execution_count": 4,
   "metadata": {},
   "outputs": [
    {
     "data": {
      "text/plain": [
       "array([[<AxesSubplot:title={'center':'tax_cls_s'}>]], dtype=object)"
      ]
     },
     "execution_count": 4,
     "metadata": {},
     "output_type": "execute_result"
    },
    {
     "data": {
      "image/png": "[encoded data removed]",
      "text/plain": [
       "<Figure size 432x288 with 1 Axes>"
      ]
     },
     "metadata": {
      "needs_background": "light"
     },
     "output_type": "display_data"
    }
   ],
   "source": [
    "df.hist(column='tax_cls_s')"
   ]
  },
  {
   "cell_type": "markdown",
   "metadata": {},
   "source": [
    "#### Re-create Baseline Model from the Werkcollege\n",
    "\n",
    "The model will use 'yr_built' and 'tot_sqft' as the features to predict 'price'"
   ]
  },
  {
   "cell_type": "code",
   "execution_count": 5,
   "metadata": {},
   "outputs": [
    {
     "data": {
      "text/plain": [
       "1    37183\n",
       "2    36615\n",
       "4    10967\n",
       "3        3\n",
       "Name: tax_cls_s, dtype: int64"
      ]
     },
     "execution_count": 5,
     "metadata": {},
     "output_type": "execute_result"
    }
   ],
   "source": [
    "df.tax_cls_s.value_counts()"
   ]
  },
  {
   "cell_type": "code",
   "execution_count": 6,
   "metadata": {},
   "outputs": [
    {
     "data": {
      "text/plain": [
       "01  ONE FAMILY DWELLINGS                       16029\n",
       "02  TWO FAMILY DWELLINGS                       14373\n",
       "10  COOPS - ELEVATOR APARTMENTS                13323\n",
       "13  CONDOS - ELEVATOR APARTMENTS               11880\n",
       "03  THREE FAMILY DWELLINGS                      4082\n",
       "07  RENTALS - WALKUP APARTMENTS                 4034\n",
       "45  CONDO HOTELS                                2897\n",
       "09  COOPS - WALKUP APARTMENTS                   2770\n",
       "17  CONDO COOPS                                 1442\n",
       "04  TAX CLASS 1 CONDOS                          1426\n",
       "44  CONDO PARKING                               1309\n",
       "26  OTHER HOTELS                                1208\n",
       "05  TAX CLASS 1 VACANT LAND                     1120\n",
       "15  CONDOS - 2-10 UNIT RESIDENTIAL              1101\n",
       "22  STORE BUILDINGS                             1082\n",
       "29  COMMERCIAL GARAGES                           859\n",
       "14  RENTALS - 4-10 UNIT                          738\n",
       "12  CONDOS - WALKUP APARTMENTS                   687\n",
       "31  COMMERCIAL VACANT LAND                       609\n",
       "43  CONDO OFFICE BUILDINGS                       597\n",
       "08  RENTALS - ELEVATOR APARTMENTS                500\n",
       "21  OFFICE BUILDINGS                             439\n",
       "30  WAREHOUSES                                   399\n",
       "47  CONDO NON-BUSINESS STORAGE                   358\n",
       "27  FACTORIES                                    270\n",
       "46  CONDO STORE BUILDINGS                        226\n",
       "41  TAX CLASS 4 - OTHER                          166\n",
       "06  TAX CLASS 1 - OTHER                          153\n",
       "37  RELIGIOUS FACILITIES                         127\n",
       "16  CONDOS - 2-10 UNIT WITH COMMERCIAL UNIT      109\n",
       "32  HOSPITAL AND HEALTH FACILITIES                69\n",
       "33  EDUCATIONAL FACILITIES                        58\n",
       "28  COMMERCIAL CONDOS                             48\n",
       "23  LOFT BUILDINGS                                48\n",
       "49  CONDO WAREHOUSES/FACTORY/INDUS                45\n",
       "35  INDOOR PUBLIC AND CULTURAL FACILITIES         41\n",
       "48  CONDO TERRACES/GARDENS/CABANAS                33\n",
       "11A CONDO-RENTALS                                 29\n",
       "38  ASYLUMS AND HOMES                             21\n",
       "36  OUTDOOR RECREATIONAL FACILITIES               15\n",
       "25  LUXURY HOTELS                                 12\n",
       "42  CONDO CULTURAL/MEDICAL/EDUCATIONAL/ETC         8\n",
       "34  THEATRES                                       8\n",
       "24  TAX CLASS 4 - UTILITY BUREAU PROPERTIES        8\n",
       "40  SELECTED GOVERNMENTAL FACILITIES               4\n",
       "18  TAX CLASS 3 - UNTILITY PROPERTIES              3\n",
       "39  TRANSPORTATION FACILITIES                      3\n",
       "11  SPECIAL CONDO BILLING LOTS                     2\n",
       "Name: bldg_ctgy, dtype: int64"
      ]
     },
     "execution_count": 6,
     "metadata": {},
     "output_type": "execute_result"
    }
   ],
   "source": [
    "df.bldg_ctgy.value_counts()"
   ]
  },
  {
   "cell_type": "code",
   "execution_count": 7,
   "metadata": {},
   "outputs": [
    {
     "data": {
      "text/html": [
       "<div>\n",
       "<style scoped>\n",
       "    .dataframe tbody tr th:only-of-type {\n",
       "        vertical-align: middle;\n",
       "    }\n",
       "\n",
       "    .dataframe tbody tr th {\n",
       "        vertical-align: top;\n",
       "    }\n",
       "\n",
       "    .dataframe thead th {\n",
       "        text-align: right;\n",
       "    }\n",
       "</style>\n",
       "<table border=\"1\" class=\"dataframe\">\n",
       "  <thead>\n",
       "    <tr style=\"text-align: right;\">\n",
       "      <th></th>\n",
       "      <th>yr_built</th>\n",
       "      <th>tot_sqft</th>\n",
       "      <th>price</th>\n",
       "    </tr>\n",
       "  </thead>\n",
       "  <tbody>\n",
       "    <tr>\n",
       "      <th>0</th>\n",
       "      <td>1899</td>\n",
       "      <td>2619</td>\n",
       "      <td>0</td>\n",
       "    </tr>\n",
       "    <tr>\n",
       "      <th>1</th>\n",
       "      <td>1899</td>\n",
       "      <td>2619</td>\n",
       "      <td>0</td>\n",
       "    </tr>\n",
       "    <tr>\n",
       "      <th>2</th>\n",
       "      <td>1899</td>\n",
       "      <td>2528</td>\n",
       "      <td>0</td>\n",
       "    </tr>\n",
       "    <tr>\n",
       "      <th>3</th>\n",
       "      <td>1910</td>\n",
       "      <td>2452</td>\n",
       "      <td>0</td>\n",
       "    </tr>\n",
       "    <tr>\n",
       "      <th>4</th>\n",
       "      <td>1910</td>\n",
       "      <td>2452</td>\n",
       "      <td>400000</td>\n",
       "    </tr>\n",
       "  </tbody>\n",
       "</table>\n",
       "</div>"
      ],
      "text/plain": [
       "   yr_built  tot_sqft   price\n",
       "0      1899      2619       0\n",
       "1      1899      2619       0\n",
       "2      1899      2528       0\n",
       "3      1910      2452       0\n",
       "4      1910      2452  400000"
      ]
     },
     "execution_count": 7,
     "metadata": {},
     "output_type": "execute_result"
    }
   ],
   "source": [
    "df2 = df[['yr_built', 'tot_sqft', 'price']].copy()\n",
    "df2.head()"
   ]
  },
  {
   "cell_type": "code",
   "execution_count": 8,
   "metadata": {},
   "outputs": [
    {
     "data": {
      "text/plain": [
       "price       0\n",
       "tot_sqft    0\n",
       "yr_built    0\n",
       "dtype: int64"
      ]
     },
     "execution_count": 8,
     "metadata": {},
     "output_type": "execute_result"
    }
   ],
   "source": [
    "# Checking for NaN values\n",
    "df2.isna().sum().sort_values(ascending=False)"
   ]
  },
  {
   "cell_type": "code",
   "execution_count": 9,
   "metadata": {},
   "outputs": [
    {
     "name": "stdout",
     "output_type": "stream",
     "text": [
      "Entries with incorrect year:  6530\n",
      "Entries with incorrect totsqft:  40639\n",
      "Entries with incorrect price:  24118\n",
      "Original dataset length:  84768\n",
      "Cleaned dataset length:  28711\n"
     ]
    }
   ],
   "source": [
    "# We also don't want any attibute to be 0, which is presumably a missing entry\n",
    "print(\"Entries with incorrect year: \", len(df2[df2.yr_built == 0]))\n",
    "print(\"Entries with incorrect totsqft: \", len(df2[df2.tot_sqft == 0]))\n",
    "print(\"Entries with incorrect price: \",len(df2[df2.price == 0]))\n",
    "print(\"Original dataset length: \",len(df2))\n",
    "df2 = df2[(df2.yr_built != 0) & (df2.tot_sqft != 0) & (df2.price != 0)]\n",
    "print(\"Cleaned dataset length: \", len(df2))"
   ]
  },
  {
   "cell_type": "code",
   "execution_count": 10,
   "metadata": {},
   "outputs": [
    {
     "name": "stdout",
     "output_type": "stream",
     "text": [
      "0\n",
      "0\n",
      "0\n"
     ]
    }
   ],
   "source": [
    "#Check that the cleaning steps worked\n",
    "print(len(df2[df2.yr_built == 0]))\n",
    "print(len(df2[df2.tot_sqft == 0]))\n",
    "print(len(df2[df2.price == 0]))"
   ]
  },
  {
   "cell_type": "markdown",
   "metadata": {},
   "source": [
    "Reshape the data to fit the requirements of scikit-learn"
   ]
  },
  {
   "cell_type": "code",
   "execution_count": 11,
   "metadata": {},
   "outputs": [
    {
     "name": "stdout",
     "output_type": "stream",
     "text": [
      "(28711, 2) (28711,)\n"
     ]
    }
   ],
   "source": [
    "# Assigning X to age and size and Y to price\n",
    "\n",
    "X = df2.drop(columns=['price'])\n",
    "Y = df2.price\n",
    "Y = np.array(Y).reshape(-1)\n",
    "print(X.shape,Y.shape)"
   ]
  },
  {
   "cell_type": "code",
   "execution_count": 12,
   "metadata": {},
   "outputs": [
    {
     "data": {
      "text/plain": [
       "Text(0.5, 1.0, 'Prices vs Total sqft')"
      ]
     },
     "execution_count": 12,
     "metadata": {},
     "output_type": "execute_result"
    },
    {
     "data": {
      "image/png": "[encoded data removed]",
      "text/plain": [
       "<Figure size 1080x288 with 2 Axes>"
      ]
     },
     "metadata": {
      "needs_background": "light"
     },
     "output_type": "display_data"
    }
   ],
   "source": [
    "import matplotlib.pyplot as plt\n",
    "%matplotlib inline\n",
    "\n",
    "f, ax = plt.subplots(1, 2)\n",
    "f.set_figwidth(15,10)\n",
    "ax[0].scatter(Y, X.yr_built)\n",
    "ax[0].set_xlabel(\"Prices\")\n",
    "ax[0].set_ylabel(\"Year built\")\n",
    "ax[0].set_title(\"Prices vs Year built\")\n",
    "#ax[0].set_xlim(0,5e8)\n",
    "#ax[0].set_ylim(1800,2050)\n",
    "ax[1].scatter(Y, X.tot_sqft)\n",
    "ax[1].set_xlabel(\"Prices\")\n",
    "ax[1].set_ylabel(\"Total sqft\")\n",
    "ax[1].set_title(\"Prices vs Total sqft\")\n",
    "#ax[1].set_xlim(0,5e8)\n",
    "#ax[1].set_ylim(0,1e6)"
   ]
  },
  {
   "cell_type": "code",
   "execution_count": 13,
   "metadata": {},
   "outputs": [
    {
     "name": "stdout",
     "output_type": "stream",
     "text": [
      "Correlation matrix for Price and Year built: \n",
      " \n",
      " [[ 1.         -0.01445196]\n",
      " [-0.01445196  1.        ]]\n",
      "\n",
      " \n",
      " Correlation matrix for Price and Total sqft: \n",
      " \n",
      " [[1.         0.43755973]\n",
      " [0.43755973 1.        ]]\n"
     ]
    }
   ],
   "source": [
    "print('Correlation matrix for Price and Year built: \\n \\n', np.corrcoef(Y, X.yr_built))\n",
    "print('\\n \\n Correlation matrix for Price and Total sqft: \\n \\n', np.corrcoef(Y, X.tot_sqft))"
   ]
  },
  {
   "cell_type": "code",
   "execution_count": 14,
   "metadata": {},
   "outputs": [
    {
     "data": {
      "text/plain": [
       "((22968, 2), (5743, 2))"
      ]
     },
     "execution_count": 14,
     "metadata": {},
     "output_type": "execute_result"
    }
   ],
   "source": [
    "# Splitting the data with 80:20 ratio\n",
    "\n",
    "from sklearn.model_selection import train_test_split\n",
    "\n",
    "X_train, X_test, y_train, y_test = train_test_split(X, Y, test_size = .20, random_state = 40)\n",
    "X_train.shape, X_test.shape"
   ]
  },
  {
   "cell_type": "code",
   "execution_count": 15,
   "metadata": {},
   "outputs": [],
   "source": [
    "from sklearn.linear_model import LinearRegression\n",
    "\n",
    "lr = LinearRegression()"
   ]
  },
  {
   "cell_type": "code",
   "execution_count": 16,
   "metadata": {},
   "outputs": [
    {
     "data": {
      "text/plain": [
       "LinearRegression()"
      ]
     },
     "execution_count": 16,
     "metadata": {},
     "output_type": "execute_result"
    }
   ],
   "source": [
    "# Fitting the model\n",
    "\n",
    "lr.fit(X_train, y_train)"
   ]
  },
  {
   "cell_type": "code",
   "execution_count": 17,
   "metadata": {},
   "outputs": [
    {
     "name": "stdout",
     "output_type": "stream",
     "text": [
      "Train: 0.19962306486281078\n",
      "Test: 0.18439313336989016\n"
     ]
    }
   ],
   "source": [
    "# R^2 scores\n",
    "print('Train:', lr.score(X_train, y_train))\n",
    "print('Test:', lr.score(X_test, y_test))"
   ]
  },
  {
   "cell_type": "markdown",
   "metadata": {},
   "source": [
    "##### Can we make a better model??"
   ]
  },
  {
   "cell_type": "markdown",
   "metadata": {},
   "source": [
    "### NewModel\n",
    "\n",
    "Column descriptions found here https://www1.nyc.gov/assets/finance/downloads/pdf/07pdf/glossary_rsf071607.pdf\n",
    "\n",
    "The NewModel will use the following columns as features to predict 'price':\n",
    "- Borough\n",
    "- Neighborhood\n",
    "- Block\n",
    "- Building class category\n",
    "- Total Sqft"
   ]
  },
  {
   "cell_type": "code",
   "execution_count": 19,
   "metadata": {},
   "outputs": [
    {
     "data": {
      "text/html": [
       "<div>\n",
       "<style scoped>\n",
       "    .dataframe tbody tr th:only-of-type {\n",
       "        vertical-align: middle;\n",
       "    }\n",
       "\n",
       "    .dataframe tbody tr th {\n",
       "        vertical-align: top;\n",
       "    }\n",
       "\n",
       "    .dataframe thead th {\n",
       "        text-align: right;\n",
       "    }\n",
       "</style>\n",
       "<table border=\"1\" class=\"dataframe\">\n",
       "  <thead>\n",
       "    <tr style=\"text-align: right;\">\n",
       "      <th></th>\n",
       "      <th>borough</th>\n",
       "      <th>block</th>\n",
       "      <th>bldg_cls_p</th>\n",
       "      <th>tot_sqft</th>\n",
       "      <th>price</th>\n",
       "    </tr>\n",
       "  </thead>\n",
       "  <tbody>\n",
       "    <tr>\n",
       "      <th>0</th>\n",
       "      <td>2</td>\n",
       "      <td>2905</td>\n",
       "      <td>A9</td>\n",
       "      <td>2619</td>\n",
       "      <td>0</td>\n",
       "    </tr>\n",
       "    <tr>\n",
       "      <th>1</th>\n",
       "      <td>2</td>\n",
       "      <td>2905</td>\n",
       "      <td>A9</td>\n",
       "      <td>2619</td>\n",
       "      <td>0</td>\n",
       "    </tr>\n",
       "    <tr>\n",
       "      <th>2</th>\n",
       "      <td>2</td>\n",
       "      <td>3035</td>\n",
       "      <td>S1</td>\n",
       "      <td>2528</td>\n",
       "      <td>0</td>\n",
       "    </tr>\n",
       "    <tr>\n",
       "      <th>3</th>\n",
       "      <td>2</td>\n",
       "      <td>3039</td>\n",
       "      <td>S1</td>\n",
       "      <td>2452</td>\n",
       "      <td>0</td>\n",
       "    </tr>\n",
       "    <tr>\n",
       "      <th>4</th>\n",
       "      <td>2</td>\n",
       "      <td>3039</td>\n",
       "      <td>S1</td>\n",
       "      <td>2452</td>\n",
       "      <td>400000</td>\n",
       "    </tr>\n",
       "  </tbody>\n",
       "</table>\n",
       "</div>"
      ],
      "text/plain": [
       "   borough  block bldg_cls_p  tot_sqft   price\n",
       "0        2   2905         A9      2619       0\n",
       "1        2   2905         A9      2619       0\n",
       "2        2   3035         S1      2528       0\n",
       "3        2   3039         S1      2452       0\n",
       "4        2   3039         S1      2452  400000"
      ]
     },
     "execution_count": 19,
     "metadata": {},
     "output_type": "execute_result"
    }
   ],
   "source": [
    "newmodel = df[['borough','block','bldg_cls_p','tot_sqft','price']].copy()\n",
    "newmodel.head()"
   ]
  },
  {
   "cell_type": "code",
   "execution_count": 20,
   "metadata": {},
   "outputs": [
    {
     "data": {
      "text/plain": [
       "bldg_cls_p    3\n",
       "price         0\n",
       "tot_sqft      0\n",
       "block         0\n",
       "borough       0\n",
       "dtype: int64"
      ]
     },
     "execution_count": 20,
     "metadata": {},
     "output_type": "execute_result"
    }
   ],
   "source": [
    "# Checking for NaN values\n",
    "newmodel.isna().sum().sort_values(ascending=False)"
   ]
  },
  {
   "cell_type": "code",
   "execution_count": 22,
   "metadata": {
    "scrolled": true
   },
   "outputs": [],
   "source": [
    "newmodel = newmodel.dropna()"
   ]
  },
  {
   "cell_type": "code",
   "execution_count": 23,
   "metadata": {},
   "outputs": [
    {
     "data": {
      "text/plain": [
       "price         0\n",
       "tot_sqft      0\n",
       "bldg_cls_p    0\n",
       "block         0\n",
       "borough       0\n",
       "dtype: int64"
      ]
     },
     "execution_count": 23,
     "metadata": {},
     "output_type": "execute_result"
    }
   ],
   "source": [
    "# Checking for NaN values\n",
    "newmodel.isna().sum().sort_values(ascending=False)"
   ]
  },
  {
   "cell_type": "code",
   "execution_count": 25,
   "metadata": {},
   "outputs": [
    {
     "name": "stdout",
     "output_type": "stream",
     "text": [
      "Entries with incorrect borough:  0\n",
      "Entries with incorrect block:  0\n",
      "Entries with incorrect bldg_cls_p:  0\n",
      "Entries with incorrect totsqft:  0\n",
      "Entries with incorrect price:  0\n",
      "Original dataset length:  28716\n",
      "Cleaned dataset length:  28716\n"
     ]
    }
   ],
   "source": [
    "# We also don't want any attibute to be 0, which is presumably a missing entry\n",
    "print(\"Entries with incorrect borough: \", len(newmodel[newmodel.borough == 0]))\n",
    "print(\"Entries with incorrect block: \", len(newmodel[newmodel.block == 0]))\n",
    "print(\"Entries with incorrect bldg_cls_p: \", len(newmodel[newmodel.bldg_cls_p == 0]))\n",
    "print(\"Entries with incorrect totsqft: \", len(newmodel[newmodel.tot_sqft == 0]))\n",
    "print(\"Entries with incorrect price: \",len(newmodel[newmodel.price == 0]))\n",
    "print(\"Original dataset length: \",len(newmodel))\n",
    "newmodel = newmodel[(newmodel.borough != 0) & (newmodel.block != 0) & (newmodel.bldg_cls_p != 0)& (newmodel.tot_sqft != 0)& (newmodel.price != 0)]\n",
    "print(\"Cleaned dataset length: \", len(newmodel))"
   ]
  },
  {
   "cell_type": "code",
   "execution_count": 26,
   "metadata": {},
   "outputs": [
    {
     "name": "stdout",
     "output_type": "stream",
     "text": [
      "(28716, 4) (28716,)\n"
     ]
    }
   ],
   "source": [
    "# Assigning X to age and size and Y to price\n",
    "\n",
    "X = newmodel.drop(columns=['price'])\n",
    "Y = newmodel.price\n",
    "Y = np.array(Y).reshape(-1)\n",
    "print(X.shape,Y.shape)"
   ]
  },
  {
   "cell_type": "code",
   "execution_count": 28,
   "metadata": {},
   "outputs": [
    {
     "name": "stdout",
     "output_type": "stream",
     "text": [
      "Correlation matrix for Price and Borough: \n",
      " \n",
      " [[ 1.         -0.18012133]\n",
      " [-0.18012133  1.        ]]\n",
      "\n",
      " \n",
      " Correlation matrix for Price and Block: \n",
      " \n",
      " [[ 1.        -0.1121258]\n",
      " [-0.1121258  1.       ]]\n",
      "\n",
      " \n",
      " Correlation matrix for Price and Total sqft: \n",
      " \n",
      " [[1.         0.43724022]\n",
      " [0.43724022 1.        ]]\n"
     ]
    }
   ],
   "source": [
    "print('Correlation matrix for Price and Borough: \\n \\n', np.corrcoef(Y, X.borough))\n",
    "print('\\n \\n Correlation matrix for Price and Block: \\n \\n', np.corrcoef(Y, X.block))\n",
    "#print('\\n \\n Correlation matrix for Price and Building Class: \\n \\n', np.corrcoef(Y, X.bldg_cls_p))\n",
    "print('\\n \\n Correlation matrix for Price and Total sqft: \\n \\n', np.corrcoef(Y, X.tot_sqft))"
   ]
  },
  {
   "cell_type": "code",
   "execution_count": null,
   "metadata": {},
   "outputs": [],
   "source": []
  }
 ],
 "metadata": {
  "kernelspec": {
   "display_name": "Python 3",
   "language": "python",
   "name": "python3"
  },
  "language_info": {
   "codemirror_mode": {
    "name": "ipython",
    "version": 3
   },
   "file_extension": ".py",
   "mimetype": "text/x-python",
   "name": "python",
   "nbconvert_exporter": "python",
   "pygments_lexer": "ipython3",
   "version": "3.7.9"
  }
 },
 "nbformat": 4,
 "nbformat_minor": 4
}
